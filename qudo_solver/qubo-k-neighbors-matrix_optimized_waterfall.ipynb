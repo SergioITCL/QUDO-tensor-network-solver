{
 "cells": [
  {
   "cell_type": "markdown",
   "metadata": {},
   "source": [
    "# Tensor Network Algorithm that allows to solve QUDO problems using matrices and introduces the waterfall effect"
   ]
  },
  {
   "cell_type": "markdown",
   "metadata": {},
   "source": [
    "Author: Sergio Muñiz subiñas \n",
    "\n",
    "Date: 07/20/2025\n",
    "\n",
    "Company: ITCL\n",
    "\n",
    "Contact: sergio.muniz@itcl.es"
   ]
  },
  {
   "cell_type": "markdown",
   "metadata": {},
   "source": [
    "This notebook implements a tensor network algorithm to solve QUDO, QUBO problems with a fixed number of neighbors $1$, the algorithm employs the MeLoCoTN methodology (https://arxiv.org/abs/2502.05981), a quantum inspired tensor network technique based on signal method and imaginary time evolution. \n",
    "\n",
    "This implementation is based on a matrix-vector implementation and it introduces the waterfall effect for a 1-neighbor QUDO problem proposed in the paper. The library used to perform the manipulation and contraction of the tensors is Numpy.\n",
    "\n",
    "A detailed explanation of the algorithm is presented in the following paper.\n"
   ]
  },
  {
   "cell_type": "code",
   "execution_count": 2,
   "metadata": {},
   "outputs": [],
   "source": [
    "# Libraries\n",
    "import numpy as np\n",
    "from qudo_solver.qudo_solver_core.qubo_solvers import ortools_qudo_solver\n",
    "from qudo_solver.qudo_solver_core.qubo_auxiliar_functions import  generate_k_qubo, normalize_list_of_lists, qubo_value_from_lists, qudo_evaluation, qubo_list_to_matrix\n",
    "from itertools import product\n",
    "from time import time\n",
    "from scipy.sparse import diags, csr_matrix, coo_matrix\n",
    "%load_ext autoreload\n",
    "%autoreload 2\n"
   ]
  },
  {
   "cell_type": "markdown",
   "metadata": {},
   "source": [
    "---\n",
    "# Tensor Network functions"
   ]
  },
  {
   "cell_type": "markdown",
   "metadata": {},
   "source": [
    "## Definition of the Tensor Network nodes"
   ]
  },
  {
   "cell_type": "code",
   "execution_count": 3,
   "metadata": {},
   "outputs": [],
   "source": [
    "def node_0(Q_matrix_0: float, dits: int, tau: float)-> csr_matrix:\n",
    "    \"\"\"\n",
    "    Matrix that represents the row of tensors of the first variable.\n",
    "\n",
    "    Args:\n",
    "        Q_matrix_0 (float): Q_matrix[0][0].\n",
    "        dits (int): dinary description: bits, trits,...\n",
    "        tau (float): parameter of the imaginary time evolution.\n",
    "\n",
    "    Returns:\n",
    "        tensor (csr_matrix): tensor of the first node\n",
    "    \"\"\"\n",
    "    diagonal_values = np.exp(-tau * Q_matrix_0 * np.arange(dits)**2)\n",
    "    tensor = diags(diagonal_values, offsets=0, format='csr')\n",
    "    \n",
    "    return tensor\n",
    "\n",
    "def node_grow(Q_matrix_row: np.array, dits: int, n_neight, tau: float):\n",
    "    \"\"\"\n",
    "    Template that generates the matrix that represents the row of tensors of the variables with fewer neighbors than k from above.\n",
    "\n",
    "    Args:\n",
    "        Q_matrix_row (np.array): Q_matrix[row]\n",
    "        dits (int): dinary description: bits, trits,...\n",
    "        n_neight (_type_): maximum number of neighbors of the problem.\n",
    "        tau (float): parameter of the imaginary time evolution.\n",
    "\n",
    "    Returns:\n",
    "        tensor (np.ndarray): Matrix of a variable with fewer neighbors above than below.\n",
    "    \"\"\"\n",
    "    tensor = np.zeros((dits**n_neight, dits**(n_neight+1)))\n",
    "\n",
    "    combinations_up = product(range(dits), repeat=n_neight)\n",
    "    \n",
    "    for element in combinations_up:\n",
    "        index_up = sum(dits**aux * element[aux] for aux in range(n_neight))\n",
    "        \n",
    "        for index_last in range(dits):\n",
    "            index_down = index_up + dits**n_neight * index_last\n",
    "            full_element = list(element) + [index_last]\n",
    "            \n",
    "            # Calculate the tensor value\n",
    "            value = 1.0\n",
    "            for aux in range(len(full_element)):\n",
    "                value *= np.exp(-tau * Q_matrix_row[aux] * full_element[-1] * full_element[aux])\n",
    "\n",
    "            # Assign the computed value to the tensor\n",
    "            tensor[index_up, index_down] = value\n",
    "    \n",
    "    return tensor\n",
    "\n",
    "def node_intermediate(Q_matrix_row: np.ndarray, dits: int, n_neigh: int, tau: float):\n",
    "    \"\"\"\n",
    "   Function that builds a sparse matrix (CSR) of shape (dits**n_neigh, dits**n_neigh) fully vectorized that represents the row of tensors of the variables with equal number of neighbors above and below.\n",
    "\n",
    "    Parameters:\n",
    "    Q_matrix_row (np.ndarray): 1D array with length n_neigh + 1; last entry is the quadratic coefficient.\n",
    "    dits (int): dinary description: bits, trits, ...\n",
    "    n_neigh (int) : Number of neighbor variables considered in the problem\n",
    "    tau (float): parameter of the imaginary time evolution.\n",
    "\n",
    "    Returns:\n",
    "    scipy.sparse.csr_matrix\n",
    "        The sparse matrix in CSR format.\n",
    "    \"\"\"\n",
    "    size = dits ** n_neigh\n",
    "    n_blocks = dits ** (n_neigh - 1)\n",
    "    digits = np.array(np.unravel_index(np.arange(size), (dits,) * n_neigh)).T  \n",
    "\n",
    "    Q_lin = Q_matrix_row[:n_neigh][::-1]             \n",
    "    S = digits @ Q_lin                                \n",
    "\n",
    "    k = np.arange(dits)                              \n",
    "    Q_last = Q_matrix_row[-1]\n",
    "  \n",
    "    exponents = (S[:, None] * k[None, :]) + (Q_last * (k ** 2))[None, :]\n",
    "    data_mat = np.exp(-tau * exponents)            \n",
    "\n",
    "    rows = np.repeat(np.arange(size), dits)          \n",
    "    base = (np.arange(size) // dits)                \n",
    "    cols = (base[:, None] + k[None, :] * n_blocks).ravel(order=\"C\")\n",
    "\n",
    "    data = data_mat.ravel(order=\"C\")\n",
    "    A = coo_matrix((data, (rows, cols)), shape=(size, size)).tocsr()\n",
    "    return A  \n",
    "\n",
    "def last_tensor(Q_matrix_row: np.array, dits: int, tau:float):\n",
    "    \"\"\"\n",
    "        Function that generates the vector that represents the row of nodes of the last variable.\n",
    "\n",
    "    Args:\n",
    "        Q_matrix_row (np.array): Row of the Q matrix.\n",
    "        dits (int): Dinary description (e.g., bits, trits, etc.).\n",
    "        num_neight_updown (int): Number of neighbors both up and down.\n",
    "        tau (float): Parameter for the imaginary time evolution.\n",
    "\n",
    "    Returns:\n",
    "    \"\"\"\n",
    "    n_neighbors = len(Q_matrix_row) - 1\n",
    "    tensor_size = dits**n_neighbors\n",
    "    tensor = np.zeros(tensor_size)\n",
    "    \n",
    "    # Generate all combinations of dits^n_neighbors\n",
    "    combinations_up = product(range(dits), repeat=n_neighbors)\n",
    "    \n",
    "    for element in combinations_up:\n",
    "        index_up = sum(dits**aux * element[aux] for aux in range(n_neighbors))\n",
    "        \n",
    "        for index_last in range(dits):\n",
    "            full_element = list(element) + [index_last]\n",
    "            # Compute the tensor value\n",
    "            tensor_aux = 1.0\n",
    "            for el in range(len(full_element)):\n",
    "                tensor_aux *= np.exp(-tau * Q_matrix_row[el] * full_element[el] * full_element[-1])\n",
    "            tensor[index_up] += tensor_aux\n",
    "    \n",
    "    return tensor\n",
    "\n",
    "\n",
    "\n",
    "def new_initial_tensor(Q_matrix_row, dits: int, tau: float, dit_sol: int):\n",
    "    \"\"\"\n",
    "    Constructs the initial tensor for a tensor network based on the given parameters.\n",
    "\n",
    "    Args:\n",
    "        Q_matrix_row (np.array): Row of the Q matrix.\n",
    "        dits (int): Dinary description (e.g., bits, trits, etc.).\n",
    "        tau (float): Parameter for the imaginary time evolution.\n",
    "        dit_sol (int): The value of the last solution element.\n",
    "\n",
    "    Returns:\n",
    "        np.array: The constructed initial tensor.\n",
    "    \"\"\"\n",
    "    size_1 = dits\n",
    "    tensor = np.zeros((size_1, size_1))\n",
    "\n",
    "    for dit in range(dits):\n",
    "        tensor[dit][dit] = np.exp(-tau*(Q_matrix_row[0]*dit_sol*dit + Q_matrix_row[1]*dit**2))\n",
    "    return tensor"
   ]
  },
  {
   "cell_type": "markdown",
   "metadata": {},
   "source": [
    "## Tensor network generation"
   ]
  },
  {
   "cell_type": "code",
   "execution_count": 4,
   "metadata": {},
   "outputs": [],
   "source": [
    "def tensor_network_generator(Q_matrix: np.array, dits: int, n_neighbors: int, tau: float):\n",
    "    \"\"\"\n",
    "    Generates the tensor network for a given Q matrix and the parameters.\n",
    "\n",
    "    Args:\n",
    "        Q_matrix (np.array): The Q matrix representing the problem.\n",
    "        dits (int): Dinary description (e.g., bits, trits, etc.).\n",
    "        n_neighbors (int): Number of neighbors to consider.\n",
    "        tau (float): Parameter for the imaginary time evolution.\n",
    "\n",
    "    Returns:\n",
    "        list: A list of tensors representing the tensor network.\n",
    "    \"\"\"\n",
    "    n_variables = len(Q_matrix)\n",
    "    intermediate_tensors = []\n",
    "\n",
    "    # Generate the first node\n",
    "    tensor = node_0(Q_matrix[0][0], dits, tau)\n",
    "\n",
    "    intermediate_tensors.append(tensor)\n",
    "\n",
    "    # Generate the intermediate nodes\n",
    "    for variable in range(1, n_variables - 1):\n",
    "        if variable < n_neighbors:\n",
    "            tensor = node_grow(Q_matrix[variable], dits, variable, tau)\n",
    "            \n",
    "        else:  \n",
    "            tensor = node_intermediate(Q_matrix[variable], dits, n_neighbors, tau)\n",
    "        intermediate_tensors.append(tensor)\n",
    "\n",
    "    # Generate the last tensor\n",
    "    \n",
    "    tensor = last_tensor(Q_matrix[-1], dits, tau)\n",
    "    intermediate_tensors.append(tensor)\n",
    "\n",
    "    return intermediate_tensors"
   ]
  },
  {
   "cell_type": "markdown",
   "metadata": {},
   "source": [
    "## Conexion and contraction of the Tensor Network"
   ]
  },
  {
   "cell_type": "code",
   "execution_count": 5,
   "metadata": {},
   "outputs": [],
   "source": [
    "def waterfall_function(solution_list: list, tensor: np.ndarray, Q_matrix_row: np.ndarray, dits: int, tau: float):\n",
    "    aux_solutions = []\n",
    "    for i in range(dits):\n",
    "        new_tensor_1 = new_initial_tensor(Q_matrix_row, dits, tau, i)\n",
    "        sol = int(np.argmax(abs(new_tensor_1 @ tensor)))\n",
    "        aux_solutions.append(sol)\n",
    "\n",
    "    if solution_list == []:\n",
    "        solution_list.append(aux_solutions)\n",
    "        return solution_list \n",
    "\n",
    "    if equal_list(aux_solutions) == True:\n",
    "        solution_list =  waterfall_post(solution_list, int(aux_solutions[0]))\n",
    "        solution_list.append(aux_solutions[0])\n",
    "        return solution_list\n",
    "    else:\n",
    "        solution_list.append(aux_solutions)\n",
    "        return solution_list\n",
    "\n",
    "def equal_list(list):\n",
    "    return all(x == list[0] for x in list)\n",
    "\n",
    "def waterfall_post(solution_list: list, aux_solution: int):\n",
    "    for index in range(len(solution_list)-1, -1, -1):\n",
    "        if isinstance(solution_list[index], list) and len(solution_list[index]) != 1:\n",
    "            solution_list[index] = solution_list[index][aux_solution]\n",
    "         \n",
    "            aux_solution = solution_list[index]\n",
    "        else: \n",
    "            return solution_list\n",
    "    return solution_list"
   ]
  },
  {
   "cell_type": "code",
   "execution_count": 6,
   "metadata": {},
   "outputs": [],
   "source": [
    "def tensor_network_contraction(tensor_list: list, Q_list: np.ndarray, dits: int, tau: float):\n",
    "    \"\"\"\n",
    "    Performs the contraction of a tensor network by multiplying tensors sequentially.\n",
    "\n",
    "    Args:\n",
    "        tensor_list (list): A list of tensors representing the network.\n",
    "\n",
    "    Returns:\n",
    "        tuple: The final contracted tensor and a list of intermediate tensors.\n",
    "    \"\"\"\n",
    "    # Initialize with the last tensor in the network\n",
    "    tensor = tensor_list[-1]\n",
    "    n_nodes = len(tensor_list)\n",
    "    solution_list = []\n",
    "    # Contract the tensors in reverse order\n",
    "    waterfall_counts = 0\n",
    "    for index, current_tensor in enumerate(reversed(tensor_list[1:-1])):\n",
    "        Q_matrix_row = Q_list[n_nodes - index - 2]\n",
    "        solution_list = waterfall_function(solution_list, tensor, Q_matrix_row, dits, tau)\n",
    "        if type(solution_list[-1])  == int:\n",
    "            waterfall_counts += 1\n",
    "        tensor = current_tensor @ tensor  # Matrix multiplication\n",
    "        tensor /= np.linalg.norm(tensor)  # Normalize the tensor after multiplication\n",
    "        # if abs(tensor[0]) > 1e200:\n",
    "        #     tensor = tensor / 1e200\n",
    "    sol = np.argmax(abs(tensor_list[0] @ tensor))\n",
    "    solution_list = waterfall_post(solution_list, sol)\n",
    "    solution_list.append(sol)\n",
    "    solution_list.reverse()\n",
    "    # Reverse the list of intermediate tensors to maintain the order of contraction\n",
    "    return solution_list, waterfall_counts/n_nodes"
   ]
  },
  {
   "cell_type": "markdown",
   "metadata": {},
   "source": [
    "---\n",
    "# General function"
   ]
  },
  {
   "cell_type": "markdown",
   "metadata": {},
   "source": [
    "This function handles the overall process. It performs the minimization by iteratively solving each variable. The workflow consists of constructing the tensor network, contracting it, and determining the variable from the resulting vector."
   ]
  },
  {
   "cell_type": "code",
   "execution_count": 7,
   "metadata": {},
   "outputs": [],
   "source": [
    "def qubo_solver_matrix_waterfall(Q_matrix: list[list], tau: float, dits: int, n_neighbors: int) -> np.array:\n",
    "    \"\"\"\n",
    "    Solves a QUBO (Quadratic Unconstrained Binary Optimization) problem using tensor network contraction.\n",
    "\n",
    "    Args:\n",
    "        Q_matrix (np.array): The Q matrix representing the QUBO problem.\n",
    "        tau (float): The parameter for imaginary time evolution.\n",
    "        dits (int): The number of digits (e.g., bits, trits, etc.).\n",
    "        n_neighbors (int): The number of neighbors in the problem.\n",
    "\n",
    "    Returns:\n",
    "        np.array: The solution vector to the QUBO problem.\n",
    "    \"\"\"\n",
    "    # Initialize variables and create a copy of the Q matrix\n",
    "\n",
    "    if len(Q_matrix[-1]) != 2:\n",
    "        print(\"Error: The QUDO problem has more than 1 neighbor\")\n",
    "        return None\n",
    "    n_variables = len(Q_matrix)\n",
    "    solution = np.zeros(n_variables, dtype=int)\n",
    "\n",
    "    # Generate the tensor network\n",
    "    tensor_network = tensor_network_generator(Q_matrix, dits, n_neighbors, tau)\n",
    "\n",
    "    # Perform the tensor network contraction\n",
    "    solution, waterfall_prob = tensor_network_contraction(tensor_network, Q_matrix, dits, tau)\n",
    "    solution.append(0)\n",
    "    cost = qubo_value_from_lists(solution, Q_matrix)\n",
    "    solution2 = solution.copy()\n",
    "    for dit in range(1, dits):\n",
    "        solution2[-1] = dit\n",
    "        cost2 = qubo_value_from_lists(solution2, Q_matrix)\n",
    "        # If a better solution is found, update the solution and cost\n",
    "        if cost2 < cost:\n",
    "            solution[-1] = dit\n",
    "            cost = cost2\n",
    "\n",
    "    return solution, waterfall_prob\n"
   ]
  },
  {
   "cell_type": "markdown",
   "metadata": {},
   "source": [
    "# Algorithm Testing and Ortools comparation"
   ]
  },
  {
   "cell_type": "code",
   "execution_count": 8,
   "metadata": {},
   "outputs": [
    {
     "name": "stdout",
     "output_type": "stream",
     "text": [
      "Tensor network method time 0.10136604309082031\n",
      "Tensor network cost:      -50.759758682636516\n",
      "Ortools method time 10.370638847351074\n",
      "Ortools cost:      -51.46531395629634\n",
      "\n"
     ]
    }
   ],
   "source": [
    "n_variables = 1000\n",
    "n_neihbors = 1\n",
    "dits = 3\n",
    "tau = 10\n",
    "seed = 174\n",
    "# Generation of a random instance\n",
    "Q_matrix_list = generate_k_qubo(n_variables, n_neihbors, seed)\n",
    "Q_matrix_list = normalize_list_of_lists(Q_matrix_list)\n",
    "\n",
    "\n",
    "#TN\n",
    "initial_time = time()\n",
    "solution, waterfall_prob = qubo_solver_matrix_waterfall(Q_matrix_list, tau, dits, n_neihbors)\n",
    "print(\"Tensor network method time\", time() - initial_time)\n",
    "#print('Solution TN:     ', str(solution))\n",
    "print('Tensor network cost:     ', qubo_value_from_lists(solution, Q_matrix_list))\n",
    "\n",
    "#Ortools\n",
    "Q_matrix = qubo_list_to_matrix(Q_matrix_list)\n",
    "initial_time = time()\n",
    "solution = ortools_qudo_solver(Q_matrix, dits, time = 10)\n",
    "print(\"Ortools method time\", time() - initial_time)\n",
    "# print('Solution Ortools:     ', str(solution))\n",
    "print('Ortools cost:     ', qudo_evaluation(Q_matrix, solution))\n",
    "print(\"\")\n",
    "\n"
   ]
  },
  {
   "cell_type": "markdown",
   "metadata": {},
   "source": [
    "# Experimentation"
   ]
  },
  {
   "cell_type": "code",
   "execution_count": 9,
   "metadata": {},
   "outputs": [],
   "source": [
    "import matplotlib.pyplot as plt\n",
    "import numpy as np"
   ]
  },
  {
   "cell_type": "code",
   "execution_count": 10,
   "metadata": {},
   "outputs": [],
   "source": [
    "def plot_function(data_1, data_2, axes_x_name, axes_y_name, color = 'blue', marker ='o', title = None, label = None, format='pdf'):\n",
    "    plt.figure(\"figura\")\n",
    "    plt.plot(data_1, data_2, marker = marker, linestyle = '-', color = color, label = label)\n",
    "    #plt.axhline(y=0, color='gray', linestyle='--', linewidth=3)\n",
    "    plt.xlabel(axes_x_name)\n",
    "    plt.ylabel(axes_y_name)\n",
    "    #plt.yscale(\"exp\")\n",
    "    plt.tight_layout()\n",
    "    plt.legend()\n",
    "    plt.savefig(title, format=format, dpi=300)"
   ]
  },
  {
   "cell_type": "code",
   "execution_count": 11,
   "metadata": {},
   "outputs": [],
   "source": [
    "\n",
    "\n",
    "def waterfall_experiment_function(max_dits: int, n_variables: int, repetitions: int):\n",
    "    waterfall_list = []\n",
    "    dit_list = []\n",
    "    for dit in range(2, max_dits + 1):\n",
    "        print(\"dit\", dit)\n",
    "        dit_list.append(dit)\n",
    "        wat_aux = []\n",
    "        for _ in range(repetitions):\n",
    "            seed = None\n",
    "            Q_matrix_list = generate_k_qubo(n_variables, 1, seed)\n",
    "            Q_matrix_list = normalize_list_of_lists(Q_matrix_list)\n",
    "        \n",
    "            # Try different tau values\n",
    "            best_solution = None\n",
    "            best_energy = float('inf')\n",
    "            best_waterfall = None\n",
    "    \n",
    "            for tau_test in np.linspace(1, 2000, 100):\n",
    "                solution_test, waterfall_test = qubo_solver_matrix_waterfall(Q_matrix_list, tau_test, dit, 1)\n",
    "                energy = qubo_value_from_lists(solution_test, Q_matrix_list)\n",
    "                if energy < best_energy:\n",
    "                    best_energy = energy\n",
    "                    best_solution = solution_test\n",
    "                    best_waterfall = waterfall_test\n",
    "                    \n",
    "        waterfall_prob = best_waterfall\n",
    "        wat_aux.append(waterfall_prob)\n",
    "        waterfall_list.append(np.mean(wat_aux))\n",
    "\n",
    "    return dit_list, waterfall_list\n"
   ]
  },
  {
   "cell_type": "code",
   "execution_count": null,
   "metadata": {},
   "outputs": [],
   "source": [
    "n_variables = 200\n",
    "max_dits = 20\n",
    "repetitions = 50\n",
    "dit_list, waterfall_list = waterfall_experiment_function(max_dits,n_variables, repetitions)\n"
   ]
  },
  {
   "cell_type": "code",
   "execution_count": 13,
   "metadata": {},
   "outputs": [
    {
     "name": "stdout",
     "output_type": "stream",
     "text": [
      "[2, 3, 4, 5, 6, 7, 8, 9, 10, 11, 12, 13, 14, 15, 16, 17, 18, 19, 20]\n",
      "[0.705, 0.625, 0.665, 0.705, 0.645, 0.61, 0.545, 0.555, 0.645, 0.635, 0.685, 0.64, 0.645, 0.635, 0.59, 0.58, 0.615, 0.6, 0.595]\n"
     ]
    },
    {
     "name": "stderr",
     "output_type": "stream",
     "text": [
      "C:\\Users\\sergio.muniz\\AppData\\Local\\Temp\\ipykernel_21684\\1370703954.py:9: UserWarning: No artists with labels found to put in legend.  Note that artists whose label start with an underscore are ignored when legend() is called with no argument.\n",
      "  plt.legend()\n"
     ]
    },
    {
     "data": {
      "image/png": "[encoded data removed]",
      "text/plain": [
       "<Figure size 640x480 with 1 Axes>"
      ]
     },
     "metadata": {},
     "output_type": "display_data"
    }
   ],
   "source": [
    "\n",
    "print(dit_list)\n",
    "print(waterfall_list)\n",
    "plot_function(dit_list, waterfall_list, r\"d\", r\"$w_{prob}$\", title = \"paper_graphs/dit-waterfall_probability.pdf\", color = '#db636f')"
   ]
  }
 ],
 "metadata": {
  "kernelspec": {
   "display_name": ".venv",
   "language": "python",
   "name": "python3"
  },
  "language_info": {
   "codemirror_mode": {
    "name": "ipython",
    "version": 3
   },
   "file_extension": ".py",
   "mimetype": "text/x-python",
   "name": "python",
   "nbconvert_exporter": "python",
   "pygments_lexer": "ipython3",
   "version": "3.10.11"
  }
 },
 "nbformat": 4,
 "nbformat_minor": 2
}
